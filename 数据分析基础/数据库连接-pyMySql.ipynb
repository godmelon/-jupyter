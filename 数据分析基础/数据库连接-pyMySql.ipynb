{
 "cells": [
  {
   "cell_type": "markdown",
   "metadata": {},
   "source": [
    "# 连接数据库所需参数"
   ]
  },
  {
   "cell_type": "code",
   "execution_count": null,
   "metadata": {},
   "outputs": [],
   "source": [
    "#使用pymysql指令来连接数据库\n",
    "connection = pymysql.connect(host='',\n",
    "                             user='',\n",
    "                             password='',\n",
    "                             db='',\n",
    "                             charset='',\n",
    "                             cursorclass=pymysql.cursors.DictCursor)\n",
    "#host:要连接的数据库的IP地址\n",
    "#user：登录的账户名，如果登录的是最高权限账户则为root\n",
    "#password：对应的密码\n",
    "#db：要连接的数据库，如需要访问上节课存储的IRIS数据库，则输入'IRIS'\n",
    "#charset：设置编码格式，如utf8mb4就是一个编码格式\n",
    "#cursorclass：返回到Python的结果，以什么方式存储，如Dict.Cursor是以字典的方式存储"
   ]
  },
  {
   "cell_type": "markdown",
   "metadata": {},
   "source": [
    "# 插入时记得提交commit"
   ]
  },
  {
   "cell_type": "code",
   "execution_count": null,
   "metadata": {},
   "outputs": [],
   "source": [
    "try:\n",
    "    #从数据库链接中得到cursor的数据结构\n",
    "    with connection.cursor() as cursor:\n",
    "    #在已经建立的user表格基础上，插入新数据，这里使用了一个预编译的小技巧，避免每次都要重复写sql的语句\n",
    "        sql=\"INSERT INTO `USERS`(`email`,`password`) VALUES (%s,%s)\"\n",
    "        cursor.execute(sql,('webmaster@python.org','very_secret'))\n",
    "    \n",
    "    #执行到这一行指令时才是真正改变了数据库，之前只是缓存在内存中\n",
    "    connection.commit()\n",
    "#最后别忘了关闭连接\n",
    "finally:\n",
    "    connection.close()"
   ]
  },
  {
   "cell_type": "markdown",
   "metadata": {},
   "source": [
    "COMMIT: \n",
    "1.注意过于频繁的commit会降低数据插入的效率，可以在多行insert之后一次性commit；2.autocommit选项：默认每一个insert操作都会触发commit操作方式，是在pymysql.connect的db参数后面，加一个autocommit=True参数"
   ]
  },
  {
   "cell_type": "markdown",
   "metadata": {},
   "source": [
    "# 以下为实操"
   ]
  },
  {
   "cell_type": "code",
   "execution_count": 5,
   "metadata": {},
   "outputs": [],
   "source": [
    "import pymysql.cursors\n",
    "connection = pymysql.connect(host='localhost',\n",
    "                             user='root',\n",
    "                             password='root',\n",
    "                             db='iris',\n",
    "                             charset='utf8mb4',\n",
    "                             cursorclass=pymysql.cursors.DictCursor)\n",
    "try:\n",
    "    with connection.cursor() as cursors:\n",
    "        sql= \"SELECT * FROM `iris_with_id` WHERE `id` > %s\"\n",
    "        cursors.execute(sql, ('15',))\n",
    "        #显示全部数据\n",
    "        #result = cursors.fetchall()\n",
    "        #显示一条数据\n",
    "        #result = cursors.fetchone()\n",
    "        #显示n行数据\n",
    "        #result = cursors.fetchmany(n)\n",
    "        #打印筛选出的行数\n",
    "        print(len(result))\n",
    "        for each_res in result:\n",
    "            print(each_res)\n",
    "finally:\n",
    "    pass"
   ]
  },
  {
   "cell_type": "code",
   "execution_count": 9,
   "metadata": {},
   "outputs": [
    {
     "name": "stdout",
     "output_type": "stream",
     "text": [
      "{'id': 44, 'sepal_length': 5.0, 'sepal_width': 3.5, 'petal_length': 1.6, 'petal_width': 0.6, 'species': 'Iris-setosa'}\n"
     ]
    }
   ],
   "source": [
    "import pymysql.cursors\n",
    "connection = pymysql.connect(host='localhost',\n",
    "                             user='root',\n",
    "                             password='root',\n",
    "                             db='iris',\n",
    "                             #autocommit=True,每次都执行commit操作\n",
    "                             charset='utf8mb4',\n",
    "                             cursorclass=pymysql.cursors.DictCursor)\n",
    "try:\n",
    "    with connection.cursor() as cursors:\n",
    "        sql = \"SELECT * FROM `iris_with_id` WHERE `petal_width`>0.5\"\n",
    "        cursors.execute(sql)\n",
    "        result = cursors.fetchone()\n",
    "        print(result)\n",
    "finally:\n",
    "    pass"
   ]
  }
 ],
 "metadata": {
  "kernelspec": {
   "display_name": "Python 3",
   "language": "python",
   "name": "python3"
  },
  "language_info": {
   "codemirror_mode": {
    "name": "ipython",
    "version": 3
   },
   "file_extension": ".py",
   "mimetype": "text/x-python",
   "name": "python",
   "nbconvert_exporter": "python",
   "pygments_lexer": "ipython3",
   "version": "3.6.5"
  }
 },
 "nbformat": 4,
 "nbformat_minor": 2
}
